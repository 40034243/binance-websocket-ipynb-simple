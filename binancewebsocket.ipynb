import websocket, json

cc = 'btc'
interval = '1m'

socket = f'wss://stream.binance.com:9443/ws/{cc}usdt@kline_{interval}'

def on_message(ws,message):
    result = json.loads(message)
    if "k" in result and "c" in result["k"]:
        print(result["k"]["c"])

def on_close(ws):
    print("Connection Closed...")

ws = websocket.WebSocketApp(socket, on_message = on_message, on_close = on_close)

ws.run_forever()
